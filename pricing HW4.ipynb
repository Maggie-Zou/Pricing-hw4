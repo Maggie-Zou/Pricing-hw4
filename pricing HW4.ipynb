{
 "cells": [
  {
   "cell_type": "code",
   "execution_count": 63,
   "id": "cebb4c49",
   "metadata": {},
   "outputs": [],
   "source": [
    "import numpy as np\n",
    "from matplotlib import pyplot as plt"
   ]
  },
  {
   "cell_type": "code",
   "execution_count": 52,
   "id": "6b59774e",
   "metadata": {},
   "outputs": [],
   "source": [
    "s0=100\n",
    "T=1\n",
    "r=0.01\n",
    "sigma= 0.2\n",
    "\n",
    "h= 100 #steps\n",
    "N= 100000 # number of trails\n",
    "K = 100"
   ]
  },
  {
   "cell_type": "code",
   "execution_count": 53,
   "id": "b7f912a7",
   "metadata": {},
   "outputs": [],
   "source": [
    "prices = np.zeros((N,h+1))\n",
    "prices[:,0]=s0\n",
    "step = 1\n",
    "dt = T/h\n",
    "while step < h+1:\n",
    "    prices[:,step]=prices[:,step-1] * np.exp((r-0.5*sigma**2)*dt\n",
    "                                             +np.random.normal(0,sigma*np.sqrt(dt),N))\n",
    "    step= step +1\n",
    "   "
   ]
  },
  {
   "cell_type": "code",
   "execution_count": 54,
   "id": "d17d35ca",
   "metadata": {},
   "outputs": [],
   "source": [
    "option = np.zeros(N)\n",
    "C_0s = np.zeros(N)\n",
    "for i in range(N):  \n",
    "    if prices[i,-1]-K >0:\n",
    "        option[i] = prices[i,-1]-K\n",
    "    else:\n",
    "        option[i] = 0\n",
    "    C_0s[i]=np.exp(-1*r*T)*(option[i])\n",
    "    \n",
    "C_0 = np.average(C_0s)"
   ]
  },
  {
   "cell_type": "code",
   "execution_count": 55,
   "id": "97b46f4c",
   "metadata": {},
   "outputs": [
    {
     "name": "stdout",
     "output_type": "stream",
     "text": [
      "Monte Carlo simulation generated C_0 is 8.495534844219963\n"
     ]
    }
   ],
   "source": [
    "print('Monte Carlo simulation generated C_0 is',C_0)"
   ]
  },
  {
   "cell_type": "code",
   "execution_count": 56,
   "id": "e3d6217d",
   "metadata": {},
   "outputs": [],
   "source": [
    "from scipy.stats import norm"
   ]
  },
  {
   "cell_type": "code",
   "execution_count": 57,
   "id": "0c3d0f65",
   "metadata": {},
   "outputs": [],
   "source": [
    "def BM_model_call(S,K,T,r,sigma):\n",
    "    d1= (np.log(S/K)+(r+0.5*sigma**2)*T)/(sigma*np.sqrt(T))\n",
    "    d2= d1-sigma*np.sqrt(T)\n",
    "    return S*norm.cdf(d1)-K*np.exp(-r*T)*norm.cdf(d2)\n",
    "        "
   ]
  },
  {
   "cell_type": "code",
   "execution_count": 58,
   "id": "158200d8",
   "metadata": {},
   "outputs": [
    {
     "name": "stdout",
     "output_type": "stream",
     "text": [
      "BM model generated C_0 is 8.433318690109608\n"
     ]
    }
   ],
   "source": [
    "exact_C_0 = BM_model_call(s0,100,T,r,sigma)\n",
    "print('BM model generated C_0 is',exact_C_0)"
   ]
  },
  {
   "cell_type": "code",
   "execution_count": 59,
   "id": "716442f6",
   "metadata": {},
   "outputs": [],
   "source": [
    "import statistics"
   ]
  },
  {
   "cell_type": "code",
   "execution_count": 60,
   "id": "d550ffd0",
   "metadata": {},
   "outputs": [
    {
     "name": "stdout",
     "output_type": "stream",
     "text": [
      "8.368666091162812\n",
      "8.622403597277113\n"
     ]
    }
   ],
   "source": [
    "s_n = np.std(prices[:,-1])\n",
    "upper_bound = C_0+1.96*np.sqrt(s_n*s_n/N)\n",
    "lower_bound = C_0-1.96*np.sqrt(s_n*s_n/N)\n",
    "print(lower_bound)\n",
    "print(upper_bound)v"
   ]
  },
  {
   "cell_type": "code",
   "execution_count": 61,
   "id": "5276f881",
   "metadata": {},
   "outputs": [
    {
     "name": "stdout",
     "output_type": "stream",
     "text": [
      "the exact value is inside the (approximate) 95% confidence interval from [ 8.368666091162812 , 8.622403597277113 ]\n"
     ]
    }
   ],
   "source": [
    "if lower_bound < exact_C_0  < upper_bound:\n",
    "    print('the exact value is inside the (approximate) 95% confidence interval from [',lower_bound,',',upper_bound,']')"
   ]
  },
  {
   "cell_type": "code",
   "execution_count": 62,
   "id": "621549c3",
   "metadata": {},
   "outputs": [],
   "source": [
    "def BM_model_call_Nd1(S,K,T,r,sigma):\n",
    "    d1= (np.log(S/K)+(r+0.5*sigma**2)*T)/(sigma*np.sqrt(T))\n",
    "    return norm.cdf(d1)      "
   ]
  },
  {
   "cell_type": "code",
   "execution_count": 50,
   "id": "b5afdead",
   "metadata": {},
   "outputs": [
    {
     "name": "stdout",
     "output_type": "stream",
     "text": [
      "exact N(d1) is 0.5596176923702425\n"
     ]
    }
   ],
   "source": [
    "exact_Nd1 = BM_model_call_Nd1(s0,100,T,r,sigma)\n",
    "print('exact N(d1) is', exact_Nd1)"
   ]
  },
  {
   "cell_type": "code",
   "execution_count": 69,
   "id": "de535fc0",
   "metadata": {},
   "outputs": [],
   "source": [
    "s0_update = s0+0.001\n"
   ]
  },
  {
   "cell_type": "code",
   "execution_count": 76,
   "id": "d1cb80cb",
   "metadata": {},
   "outputs": [],
   "source": [
    "def delta(s0,s0_update,K,T,r,sigma):\n",
    "    d1=(np.log(s0/K)+(r+sigma**2/2)*T)/(sigma*np.sqrt(T))\n",
    "    d1_1=(np.log(s0_update/K)+(r+sigma**2/2)*T)/(sigma*np.sqrt(T))\n",
    "    d2=d1-sigma*np.sqrt(T)\n",
    "    d2_1=d1_1-sigma*np.sqrt(T)\n",
    "    c2_0=s0*norm.cdf(d1)-K*np.exp(-r*T)*norm.cdf(d2)\n",
    "    c2_1=s0_update*norm.cdf(d1_1)-K*np.exp(-r*T)*norm.cdf(d2_1)\n",
    "    return (c2_1-c2_0)/(s0_update-s0)\n"
   ]
  },
  {
   "cell_type": "code",
   "execution_count": 77,
   "id": "47878958",
   "metadata": {},
   "outputs": [
    {
     "name": "stdout",
     "output_type": "stream",
     "text": [
      "Monte Carlo generated is 0.5596275542929443\n"
     ]
    }
   ],
   "source": [
    "delta=delta(s0,s0_update,K,T,r,sigma)\n",
    "print('Monte Carlo generated is', delta)"
   ]
  },
  {
   "cell_type": "code",
   "execution_count": null,
   "id": "394cf9f7",
   "metadata": {},
   "outputs": [],
   "source": []
  }
 ],
 "metadata": {
  "kernelspec": {
   "display_name": "Python 3 (ipykernel)",
   "language": "python",
   "name": "python3"
  },
  "language_info": {
   "codemirror_mode": {
    "name": "ipython",
    "version": 3
   },
   "file_extension": ".py",
   "mimetype": "text/x-python",
   "name": "python",
   "nbconvert_exporter": "python",
   "pygments_lexer": "ipython3",
   "version": "3.9.7"
  }
 },
 "nbformat": 4,
 "nbformat_minor": 5
}
